{
  "nbformat": 4,
  "nbformat_minor": 0,
  "metadata": {
    "colab": {
      "name": "consuela1712.ipynb",
      "provenance": []
    },
    "kernelspec": {
      "name": "python3",
      "display_name": "Python 3"
    }
  },
  "cells": [
    {
      "cell_type": "code",
      "metadata": {
        "id": "bU9JajLXgxO4",
        "colab_type": "code",
        "colab": {}
      },
      "source": [
        "import pandas as pd\n"
      ],
      "execution_count": 0,
      "outputs": []
    },
    {
      "cell_type": "code",
      "metadata": {
        "id": "GzcDwMlNXrg7",
        "colab_type": "code",
        "outputId": "12ffb5dc-dce4-45bc-9f6a-8cf37e392fc3",
        "colab": {
          "base_uri": "https://localhost:8080/",
          "height": 1000
        }
      },
      "source": [
        "!pip3 install twint\n",
        "!pip install futures\n",
        "\n"
      ],
      "execution_count": 0,
      "outputs": [
        {
          "output_type": "stream",
          "text": [
            "Collecting twint\n",
            "  Downloading https://files.pythonhosted.org/packages/f9/89/9fa5dcfb5c4112bbfe7ad43a96065733ba05ae7325da8cf1e69d67f120bd/twint-2.1.7.tar.gz\n",
            "Collecting aiohttp\n",
            "\u001b[?25l  Downloading https://files.pythonhosted.org/packages/7c/39/7eb5f98d24904e0f6d3edb505d4aa60e3ef83c0a58d6fe18244a51757247/aiohttp-3.6.2-cp36-cp36m-manylinux1_x86_64.whl (1.2MB)\n",
            "\u001b[K     |████████████████████████████████| 1.2MB 7.7MB/s \n",
            "\u001b[?25hCollecting aiodns\n",
            "  Downloading https://files.pythonhosted.org/packages/da/01/8f2d49b441573fd2478833bdba91cf0b853b4c750a1fbb9e98de1b94bb22/aiodns-2.0.0-py2.py3-none-any.whl\n",
            "Requirement already satisfied: beautifulsoup4 in /usr/local/lib/python3.6/dist-packages (from twint) (4.6.3)\n",
            "Collecting cchardet\n",
            "\u001b[?25l  Downloading https://files.pythonhosted.org/packages/fa/4e/847feebfc3e71c773b23ee06c74687b8c50a5a6d6aaff452a0a4f4eb9a32/cchardet-2.1.5-cp36-cp36m-manylinux1_x86_64.whl (241kB)\n",
            "\u001b[K     |████████████████████████████████| 245kB 38.1MB/s \n",
            "\u001b[?25hCollecting elasticsearch\n",
            "\u001b[?25l  Downloading https://files.pythonhosted.org/packages/86/3c/047e4985f81af98b71f19e318a6207187987bcd8af73b1edd4470cdee76b/elasticsearch-7.1.0-py2.py3-none-any.whl (83kB)\n",
            "\u001b[K     |████████████████████████████████| 92kB 11.2MB/s \n",
            "\u001b[?25hRequirement already satisfied: pysocks in /usr/local/lib/python3.6/dist-packages (from twint) (1.7.1)\n",
            "Requirement already satisfied: pandas in /usr/local/lib/python3.6/dist-packages (from twint) (0.25.3)\n",
            "Collecting aiohttp_socks\n",
            "  Downloading https://files.pythonhosted.org/packages/74/d0/1634f69b0eb016e3088cb61fdbb080daf4e20187a7731043cf8d8e823b79/aiohttp_socks-0.2.2-py3-none-any.whl\n",
            "Collecting schedule\n",
            "  Downloading https://files.pythonhosted.org/packages/57/22/3a709462eb02412bd1145f6e53604f36bba191e3e4e397bea4a718fec38c/schedule-0.6.0-py2.py3-none-any.whl\n",
            "Requirement already satisfied: geopy in /usr/local/lib/python3.6/dist-packages (from twint) (1.17.0)\n",
            "Collecting fake-useragent\n",
            "  Downloading https://files.pythonhosted.org/packages/d1/79/af647635d6968e2deb57a208d309f6069d31cb138066d7e821e575112a80/fake-useragent-0.1.11.tar.gz\n",
            "Collecting idna-ssl>=1.0; python_version < \"3.7\"\n",
            "  Downloading https://files.pythonhosted.org/packages/46/03/07c4894aae38b0de52b52586b24bf189bb83e4ddabfe2e2c8f2419eec6f4/idna-ssl-1.1.0.tar.gz\n",
            "Requirement already satisfied: chardet<4.0,>=2.0 in /usr/local/lib/python3.6/dist-packages (from aiohttp->twint) (3.0.4)\n",
            "Collecting yarl<2.0,>=1.0\n",
            "\u001b[?25l  Downloading https://files.pythonhosted.org/packages/fa/c0/9a73968a9f4e4dac8dffb0ba35f932dd7798fe97901f4942c2d38667862c/yarl-1.3.0-cp36-cp36m-manylinux1_x86_64.whl (251kB)\n",
            "\u001b[K     |████████████████████████████████| 256kB 53.3MB/s \n",
            "\u001b[?25hRequirement already satisfied: attrs>=17.3.0 in /usr/local/lib/python3.6/dist-packages (from aiohttp->twint) (19.3.0)\n",
            "Collecting multidict<5.0,>=4.5\n",
            "\u001b[?25l  Downloading https://files.pythonhosted.org/packages/7d/cf/73e67511d9cd60b1d11eab9361c949a209bbb9c742f2ccf59e5e8cd1d686/multidict-4.6.1-cp36-cp36m-manylinux1_x86_64.whl (348kB)\n",
            "\u001b[K     |████████████████████████████████| 358kB 49.9MB/s \n",
            "\u001b[?25hCollecting async-timeout<4.0,>=3.0\n",
            "  Downloading https://files.pythonhosted.org/packages/e1/1e/5a4441be21b0726c4464f3f23c8b19628372f606755a9d2e46c187e65ec4/async_timeout-3.0.1-py3-none-any.whl\n",
            "Requirement already satisfied: typing-extensions>=3.6.5; python_version < \"3.7\" in /usr/local/lib/python3.6/dist-packages (from aiohttp->twint) (3.6.6)\n",
            "Requirement already satisfied: typing; python_version < \"3.7\" in /usr/local/lib/python3.6/dist-packages (from aiodns->twint) (3.6.6)\n",
            "Collecting pycares>=3.0.0\n",
            "\u001b[?25l  Downloading https://files.pythonhosted.org/packages/88/58/0cdc4e9aeaa19d91cf33cdc7590d5a08b2c78de73fde893580b4fa63b57b/pycares-3.0.0-cp36-cp36m-manylinux1_x86_64.whl (204kB)\n",
            "\u001b[K     |████████████████████████████████| 204kB 44.6MB/s \n",
            "\u001b[?25hRequirement already satisfied: urllib3>=1.21.1 in /usr/local/lib/python3.6/dist-packages (from elasticsearch->twint) (1.24.3)\n",
            "Requirement already satisfied: pytz>=2017.2 in /usr/local/lib/python3.6/dist-packages (from pandas->twint) (2018.9)\n",
            "Requirement already satisfied: numpy>=1.13.3 in /usr/local/lib/python3.6/dist-packages (from pandas->twint) (1.17.4)\n",
            "Requirement already satisfied: python-dateutil>=2.6.1 in /usr/local/lib/python3.6/dist-packages (from pandas->twint) (2.6.1)\n",
            "Requirement already satisfied: geographiclib<2,>=1.49 in /usr/local/lib/python3.6/dist-packages (from geopy->twint) (1.50)\n",
            "Requirement already satisfied: idna>=2.0 in /usr/local/lib/python3.6/dist-packages (from idna-ssl>=1.0; python_version < \"3.7\"->aiohttp->twint) (2.8)\n",
            "Requirement already satisfied: cffi>=1.5.0 in /usr/local/lib/python3.6/dist-packages (from pycares>=3.0.0->aiodns->twint) (1.13.2)\n",
            "Requirement already satisfied: six>=1.5 in /usr/local/lib/python3.6/dist-packages (from python-dateutil>=2.6.1->pandas->twint) (1.12.0)\n",
            "Requirement already satisfied: pycparser in /usr/local/lib/python3.6/dist-packages (from cffi>=1.5.0->pycares>=3.0.0->aiodns->twint) (2.19)\n",
            "Building wheels for collected packages: twint, fake-useragent, idna-ssl\n",
            "  Building wheel for twint (setup.py) ... \u001b[?25l\u001b[?25hdone\n",
            "  Created wheel for twint: filename=twint-2.1.7-cp36-none-any.whl size=32262 sha256=008ec8861e6e3df8efd6be035ff708fc093f81c5d2728398ae3a0a16434a9481\n",
            "  Stored in directory: /root/.cache/pip/wheels/4c/9d/68/8e99024df8ce40eb5138d6057e8088afe03350e416964cf1a7\n",
            "  Building wheel for fake-useragent (setup.py) ... \u001b[?25l\u001b[?25hdone\n",
            "  Created wheel for fake-useragent: filename=fake_useragent-0.1.11-cp36-none-any.whl size=13485 sha256=3b97d8a9fbce64a8d58bc46ae1d6b784d0d388e07a959d2ac4c3ce70f7767eb9\n",
            "  Stored in directory: /root/.cache/pip/wheels/5e/63/09/d1dc15179f175357d3f5c00cbffbac37f9e8690d80545143ff\n",
            "  Building wheel for idna-ssl (setup.py) ... \u001b[?25l\u001b[?25hdone\n",
            "  Created wheel for idna-ssl: filename=idna_ssl-1.1.0-cp36-none-any.whl size=3163 sha256=d005cb55c246d1f3d946255b74e43a40defd8afeb339f5d3a7326c2496514937\n",
            "  Stored in directory: /root/.cache/pip/wheels/d3/00/b3/32d613e19e08a739751dd6bf998cfed277728f8b2127ad4eb7\n",
            "Successfully built twint fake-useragent idna-ssl\n",
            "Installing collected packages: idna-ssl, multidict, yarl, async-timeout, aiohttp, pycares, aiodns, cchardet, elasticsearch, aiohttp-socks, schedule, fake-useragent, twint\n",
            "Successfully installed aiodns-2.0.0 aiohttp-3.6.2 aiohttp-socks-0.2.2 async-timeout-3.0.1 cchardet-2.1.5 elasticsearch-7.1.0 fake-useragent-0.1.11 idna-ssl-1.1.0 multidict-4.6.1 pycares-3.0.0 schedule-0.6.0 twint-2.1.7 yarl-1.3.0\n",
            "Collecting futures\n",
            "  Downloading https://files.pythonhosted.org/packages/05/80/f41cca0ea1ff69bce7e7a7d76182b47bb4e1a494380a532af3e8ee70b9ec/futures-3.1.1-py3-none-any.whl\n",
            "Installing collected packages: futures\n",
            "Successfully installed futures-3.1.1\n"
          ],
          "name": "stdout"
        }
      ]
    },
    {
      "cell_type": "code",
      "metadata": {
        "id": "GrhtrWQ4q6xl",
        "colab_type": "code",
        "outputId": "834337f8-5e02-47f3-8fe3-a6519dea5093",
        "colab": {
          "base_uri": "https://localhost:8080/",
          "height": 85
        }
      },
      "source": [
        "import pandas as pd\n",
        "import twint\n",
        "Following_df=pd.DataFrame()\n",
        "def firstOrder(username):\n",
        "  c = twint.Config()\n",
        "  c.Limit = 1000\n",
        "  c.Username = username\n",
        "  c.Pandas = True\n",
        "  c.Hide_output=True\n",
        "  twint.run.Following(c)\n",
        "\n",
        "  Following_df = twint.storage.panda.Follow_df\n",
        "  return Following_df\n",
        "#list_of_followers = Following_df['following'][username]\n",
        "#print(Followers_df.shape)\n",
        "Following_df=firstOrder(\"cgpgrey\")\n",
        "print(Following_df)"
      ],
      "execution_count": 0,
      "outputs": [
        {
          "output_type": "stream",
          "text": [
            "CRITICAL:root:twint.feed:Follow:IndexError\n"
          ],
          "name": "stderr"
        },
        {
          "output_type": "stream",
          "text": [
            "Empty DataFrame\n",
            "Columns: []\n",
            "Index: []\n"
          ],
          "name": "stdout"
        }
      ]
    },
    {
      "cell_type": "code",
      "metadata": {
        "id": "UQ4wKsxT_u2f",
        "colab_type": "code",
        "colab": {}
      },
      "source": [
        "2 Following_df.iloc[0,0]\n"
      ],
      "execution_count": 0,
      "outputs": []
    },
    {
      "cell_type": "code",
      "metadata": {
        "id": "0IO0pztRMF0U",
        "colab_type": "code",
        "outputId": "444162fc-a478-47dc-be3d-438364dd07ec",
        "colab": {
          "base_uri": "https://localhost:8080/",
          "height": 34
        }
      },
      "source": [
        "Following_df.shape[0]\n"
      ],
      "execution_count": 0,
      "outputs": [
        {
          "output_type": "execute_result",
          "data": {
            "text/plain": [
              "1"
            ]
          },
          "metadata": {
            "tags": []
          },
          "execution_count": 78
        }
      ]
    },
    {
      "cell_type": "code",
      "metadata": {
        "id": "nk_NGBTPOVnA",
        "colab_type": "code",
        "colab": {}
      },
      "source": [
        "Following_df.reset_index(inplace=True)\n",
        "Following_df.rename(columns={'index':'user_id'},inplace=True)"
      ],
      "execution_count": 0,
      "outputs": []
    },
    {
      "cell_type": "code",
      "metadata": {
        "id": "hDmkk6ujP75S",
        "colab_type": "code",
        "colab": {}
      },
      "source": [
        "node_user=Following_df.iloc[0,0]"
      ],
      "execution_count": 0,
      "outputs": []
    },
    {
      "cell_type": "code",
      "metadata": {
        "id": "qlBTeIVyNFVi",
        "colab_type": "code",
        "colab": {}
      },
      "source": [
        "followback=['na']\n",
        "\n",
        "for i in range(1,n):\n",
        "  if  node_user in Following_df.iloc[i,1]:\n",
        "    followback.append(1)\n",
        "  else:\n",
        "    followback.append(0)"
      ],
      "execution_count": 0,
      "outputs": []
    },
    {
      "cell_type": "code",
      "metadata": {
        "id": "caIdU7g-SdXJ",
        "colab_type": "code",
        "colab": {}
      },
      "source": [
        "Following_df.insert(2,\"follows_back\",followback,True)"
      ],
      "execution_count": 0,
      "outputs": []
    },
    {
      "cell_type": "code",
      "metadata": {
        "id": "ttwKD9ZbTeHL",
        "colab_type": "code",
        "colab": {}
      },
      "source": [
        "same_follow=['na']\n",
        "list1=Following_df.iloc[0,1]\n",
        "for i in range(1,n):\n",
        "  list2=Following_df.iloc[i,1]\n",
        "  intersection=[j for j in list1 if j in list2]\n",
        "  same_follow.append(len(intersection))\n"
      ],
      "execution_count": 0,
     
      "outputs": [
        {
          "output_type": "execute_result",
          "data": {
            "text/plain": [
              "['na',\n",
              " 5,\n",
              " 7,\n",
              " 25,\n",
              " 5,\n",
              " 22,\n",
              " 7,\n",
              " 19,\n",
              " 5,\n",
              " 18,\n",
              " 21,\n",
              " 5,\n",
              " 0,\n",
              " 17,\n",
              " 8,\n",
              " 3,\n",
              " 14,\n",
              " 1,\n",
              " 3,\n",
              " 49,\n",
              " 10,\n",
              " 31,\n",
              " 23,\n",
              " 25,\n",
              " 7,\n",
              " 19,\n",
              " 1,\n",
              " 20,\n",
              " 19,\n",
              " 7,\n",
              " 8,\n",
              " 10,\n",
              " 5,\n",
              " 2,\n",
              " 26,\n",
              " 28,\n",
              " 7,\n",
              " 22,\n",
              " 2,\n",
              " 23,\n",
              " 5,\n",
              " 7,\n",
              " 38,\n",
              " 26,\n",
              " 13,\n",
              " 13,\n",
              " 6,\n",
              " 16,\n",
              " 11,\n",
              " 15,\n",
              " 15,\n",
              " 41,\n",
              " 19,\n",
              " 29,\n",
              " 6,\n",
              " 1,\n",
              " 14,\n",
              " 25,\n",
              " 18,\n",
              " 15,\n",
              " 29,\n",
              " 53,\n",
              " 12,\n",
              " 42,\n",
              " 5,\n",
              " 5,\n",
              " 18,\n",
              " 4,\n",
              " 8,\n",
              " 1,\n",
              " 17,\n",
              " 12,\n",
              " 15,\n",
              " 25,\n",
              " 4,\n",
              " 12,\n",
              " 8,\n",
              " 26,\n",
              " 35,\n",
              " 21,\n",
              " 18,\n",
              " 6,\n",
              " 19,\n",
              " 36,\n",
              " 20,\n",
              " 33,\n",
              " 14,\n",
              " 12,\n",
              " 3,\n",
              " 21,\n",
              " 10,\n",
              " 26,\n",
              " 24,\n",
              " 4,\n",
              " 31,\n",
              " 22,\n",
              " 27,\n",
              " 14,\n",
              " 0,\n",
              " 29,\n",
              " 30,\n",
              " 1,\n",
              " 12,\n",
              " 23,\n",
              " 19,\n",
              " 29,\n",
              " 30,\n",
              " 0,\n",
              " 16,\n",
              " 28,\n",
              " 37,\n",
              " 18,\n",
              " 12,\n",
              " 15,\n",
              " 22,\n",
              " 1,\n",
              " 9,\n",
              " 0,\n",
              " 21,\n",
              " 13,\n",
              " 2,\n",
              " 22,\n",
              " 35,\n",
              " 21,\n",
              " 0,\n",
              " 27,\n",
              " 41,\n",
              " 1,\n",
              " 34,\n",
              " 18,\n",
              " 4,\n",
              " 36,\n",
              " 20,\n",
              " 4,\n",
              " 30,\n",
              " 9,\n",
              " 48,\n",
              " 13,\n",
              " 40,\n",
              " 19,\n",
              " 16,\n",
              " 0,\n",
              " 17,\n",
              " 5,\n",
              " 19,\n",
              " 18,\n",
              " 10,\n",
              " 24,\n",
              " 30,\n",
              " 3,\n",
              " 3,\n",
              " 29,\n",
              " 10,\n",
              " 6,\n",
              " 2,\n",
              " 5,\n",
              " 2,\n",
              " 19,\n",
              " 29,\n",
              " 6,\n",
              " 13,\n",
              " 37,\n",
              " 7,\n",
              " 21,\n",
              " 9,\n",
              " 6,\n",
              " 31,\n",
              " 15,\n",
              " 30,\n",
              " 19,\n",
              " 22,\n",
              " 5,\n",
              " 18,\n",
              " 7,\n",
              " 20,\n",
              " 0,\n",
              " 1,\n",
              " 24,\n",
              " 9,\n",
              " 17,\n",
              " 46,\n",
              " 0,\n",
              " 49,\n",
              " 35,\n",
              " 1,\n",
              " 23,\n",
              " 11,\n",
              " 36,\n",
              " 23,\n",
              " 14,\n",
              " 5,\n",
              " 18,\n",
              " 2,\n",
              " 0,\n",
              " 11,\n",
              " 15,\n",
              " 9,\n",
              " 7]"
            ]
          },
          "metadata": {
            "tags": []
          },
          "execution_count": 58
        }
      ]
    },
    {
      "cell_type": "code",
      "metadata": {
        "id": "x8jU7zCXYBYy",
        "colab_type": "code",
        "colab": {}
      },
      "source": [
        "Following_df.insert(3,\"same_follows\",same_follow,True)"
      ],
      "execution_count": 0,
      "outputs": []
    },
    {
      "cell_type": "code",
      "metadata": {
        "id": "cqInK1roYSeq",
        "colab_type": "code",
        "outputId": "bceb0d11-f0a9-4466-ea64-e0fae644199a",
        "colab": {
          "base_uri": "https://localhost:8080/",
          "height": 80
        }
      },
      "source": [
        "Following_df.head(10)"
      ],
      "execution_count": 0,
      "outputs": [
        {
          "output_type": "execute_result",
          "data": {
            "text/html": [
   
          },
          "metadata": {
            "tags": []
          },
          "execution_count": 75
        }
      ]
    },
    {
      "cell_type": "code",
      "metadata": {
        "id": "__pPdXfIYVA2",
        "colab_type": "code",
        "colab": {}
      },
      "source": [
        "Following_df.iloc[0,2]=-1\n",
        "Following_df.iloc[0,3]=-1\n"
      ],
      "execution_count": 0,
      "outputs": []
    },
    {
      "cell_type": "code",
      "metadata": {
        "id": "_3_wMuyyZaEv",
        "colab_type": "code",
        "colab": {}
      },
      "source": [
        "Following_df.sort_values(['follows_back', 'same_follows'], ascending=False,inplace=True)"
      ],
      "execution_count": 0,
      "outputs": []
    },
    {
      "cell_type": "code",
      "metadata": {
        "id": "ZQ2VcgXratjF",
        "colab_type": "code",
        "outputId": "8d6b9f16-25dd-4d25-a7cc-088de6864387",
        "colab": {
          "base_uri": "https://localhost:8080/",
          "height": 669
        }
      },
      "source": [
        "Following_df.head(20)"
      ],
      "execution_count": 0,
      "outputs": [
        {
          "output_type": "execute_result",
          "data": {
            "text/html": [
              "<div>\n",
              "<style scoped>\n",
              "    .dataframe tbody tr th:only-of-type {\n",
              "        vertical-align: middle;\n",
              "    }\n",
              "\n",
              "    .dataframe tbody tr th {\n",
              "        vertical-align: top;\n",
              "    }\n",
              "\n",
              "    .dataframe thead th {\n",
              "        text-align: right;\n",
              "    }\n",
              "</style>\n",
              "<table border=\"1\" class=\"dataframe\">\n",
              "  <thead>\n",
              "    <tr style=\"text-align: right;\">\n",
              "      <th></th>\n",
              "      <th>user_id</th>\n",
              "      <th>following</th>\n",
              "      <th>follows_back</th>\n",
              "      <th>same_follows</th>\n",
              "    </tr>\n",
              "  </thead>\n",
              "  <tbody>\n",
              "    <tr>\n",
              "      <th>61</th>\n",
              "      <td>TheTierZoo</td>\n",
              "      <td>[teamtreesofficl, PaleoSteno, NaturelsWeird, t...</td>\n",
              "      <td>1</td>\n",
              "      <td>53</td>\n",
              "    </tr>\n",
              "    <tr>\n",
              "      <th>19</th>\n",
              "      <td>mikeboydvideo</td>\n",
              "      <td>[teamtreesofficl, libertyhq, ZacksJerryRig, IN...</td>\n",
              "      <td>1</td>\n",
              "      <td>49</td>\n",
              "    </tr>\n",
              "    <tr>\n",
              "      <th>182</th>\n",
              "      <td>hankgreen</td>\n",
              "      <td>[Ologies, DanRather, latinxscientist, jlopezva...</td>\n",
              "      <td>1</td>\n",
              "      <td>49</td>\n",
              "    </tr>\n",
              "    <tr>\n",
              "      <th>136</th>\n",
              "      <td>imyke</td>\n",
              "      <td>[NintendoUK, mattbooshell, PhilipMichaels, kri...</td>\n",
              "      <td>1</td>\n",
              "      <td>48</td>\n",
              "    </tr>\n",
              "    <tr>\n",
              "      <th>63</th>\n",
              "      <td>3blue1brown</td>\n",
              "      <td>[DominicWalliman, naval, danwwang, divbyzero, ...</td>\n",
              "      <td>1</td>\n",
              "      <td>42</td>\n",
              "    </tr>\n",
              "    <tr>\n",
              "      <th>51</th>\n",
              "      <td>TheBrianMcManus</td>\n",
              "      <td>[PaytonBarnwell, kpatart, h3h3productions, DJS...</td>\n",
              "      <td>1</td>\n",
              "      <td>41</td>\n",
              "    </tr>\n",
              "    <tr>\n",
              "      <th>126</th>\n",
              "      <td>waitbutwhy</td>\n",
              "      <td>[drmarkhyman, spikedonline, andrewdoyle_com, A...</td>\n",
              "      <td>1</td>\n",
              "      <td>41</td>\n",
              "    </tr>\n",
              "    <tr>\n",
              "      <th>138</th>\n",
              "      <td>Kurz_Gesagt</td>\n",
              "      <td>[MichaelEMann, GretaThunberg, ncasenmare, anth...</td>\n",
              "      <td>1</td>\n",
              "      <td>40</td>\n",
              "    </tr>\n",
              "    <tr>\n",
              "      <th>42</th>\n",
              "      <td>DavePBrown</td>\n",
              "      <td>[PartyInBackyard, G2Thijs, GretaThunberg, twts...</td>\n",
              "      <td>1</td>\n",
              "      <td>38</td>\n",
              "    </tr>\n",
              "    <tr>\n",
              "      <th>110</th>\n",
              "      <td>Exurb1a</td>\n",
              "      <td>[CDisillusion, DAVID_FIRTH, Sam_ONella, sirjoa...</td>\n",
              "      <td>1</td>\n",
              "      <td>37</td>\n",
              "    </tr>\n",
              "    <tr>\n",
              "      <th>161</th>\n",
              "      <td>BradyHaran</td>\n",
              "      <td>[DJSnM, Looking_glass_u, f1visualized, OptaJoe...</td>\n",
              "      <td>1</td>\n",
              "      <td>37</td>\n",
              "    </tr>\n",
              "    <tr>\n",
              "      <th>83</th>\n",
              "      <td>thephysicsgirl</td>\n",
              "      <td>[GoAstroMo, FascinateSci, ABTagenda, NuclearPu...</td>\n",
              "      <td>1</td>\n",
              "      <td>36</td>\n",
              "    </tr>\n",
              "    <tr>\n",
              "      <th>78</th>\n",
              "      <td>forgottentowel</td>\n",
              "      <td>[coc6, stephaniesamma, Potatopolitics, CastIro...</td>\n",
              "      <td>1</td>\n",
              "      <td>35</td>\n",
              "    </tr>\n",
              "    <tr>\n",
              "      <th>122</th>\n",
              "      <td>viticci</td>\n",
              "      <td>[analogue, LireApp, ryanashcraft, food_noms, W...</td>\n",
              "      <td>1</td>\n",
              "      <td>35</td>\n",
              "    </tr>\n",
              "    <tr>\n",
              "      <th>183</th>\n",
              "      <td>johngreen</td>\n",
              "      <td>[phoebesmlambdon, thelindsayellis, neubsauce, ...</td>\n",
              "      <td>1</td>\n",
              "      <td>35</td>\n",
              "    </tr>\n",
              "    <tr>\n",
              "      <th>128</th>\n",
              "      <td>ismh</td>\n",
              "      <td>[HooviesGarage, StJudePLAYLIVE, Chris_Bailey, ...</td>\n",
              "      <td>1</td>\n",
              "      <td>34</td>\n",
              "    </tr>\n",
              "    <tr>\n",
              "      <th>85</th>\n",
              "      <td>TomFrankly</td>\n",
              "      <td>[benln, mariepoulin, prodbycourtney, MKBHD, an...</td>\n",
              "      <td>1</td>\n",
              "      <td>33</td>\n",
              "    </tr>\n",
              "    <tr>\n",
              "      <th>21</th>\n",
              "      <td>NetHistorian</td>\n",
              "      <td>[goodbeanalt, unkleadams, yunggravy, DrAndreDa...</td>\n",
              "      <td>1</td>\n",
              "      <td>31</td>\n",
              "    </tr>\n",
              "    <tr>\n",
              "      <th>94</th>\n",
              "      <td>theodd1sout</td>\n",
              "      <td>[coolcoffeedan, Neopets, ServalSketch, AntiDar...</td>\n",
              "      <td>1</td>\n",
              "      <td>31</td>\n",
              "    </tr>\n",
              "    <tr>\n",
              "      <th>166</th>\n",
              "      <td>wheezywaiter</td>\n",
              "      <td>[realDonaldTrump, beerandboard, MarkDuplass, m...</td>\n",
              "      <td>1</td>\n",
              "      <td>31</td>\n",
              "    </tr>\n",
              "  </tbody>\n",
              "</table>\n",
              "</div>"
            ],
            "text/plain": [
              "             user_id  ... same_follows\n",
              "61        TheTierZoo  ...           53\n",
              "19     mikeboydvideo  ...           49\n",
              "182        hankgreen  ...           49\n",
              "136            imyke  ...           48\n",
              "63       3blue1brown  ...           42\n",
              "51   TheBrianMcManus  ...           41\n",
              "126       waitbutwhy  ...           41\n",
              "138      Kurz_Gesagt  ...           40\n",
              "42        DavePBrown  ...           38\n",
              "110          Exurb1a  ...           37\n",
              "161       BradyHaran  ...           37\n",
              "83    thephysicsgirl  ...           36\n",
              "78    forgottentowel  ...           35\n",
              "122          viticci  ...           35\n",
              "183        johngreen  ...           35\n",
              "128             ismh  ...           34\n",
              "85        TomFrankly  ...           33\n",
              "21      NetHistorian  ...           31\n",
              "94       theodd1sout  ...           31\n",
              "166     wheezywaiter  ...           31\n",
              "\n",
              "[20 rows x 4 columns]"
            ]
          },
          "metadata": {
            "tags": []
          },
          "execution_count": 70
        }
      ]
    },
    {
      "cell_type": "code",
      "metadata": {
        "id": "ZZUgkLztdA01",
        "colab_type": "code",
        "colab": {}
      },
      "source": [
        ""
      ],
      "execution_count": 0,
      "outputs": []
    },
    {
      "cell_type": "code",
      "metadata": {
        "id": "aGSgJbhkh9MQ",
        "colab_type": "code",
        "colab": {}
      },
      "source": [
        ""
      ],
      "execution_count": 0,
      "outputs": []
    }
  ]
}
